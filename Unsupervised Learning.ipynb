{
 "cells": [
  {
   "cell_type": "markdown",
   "metadata": {},
   "source": [
    "### Data information is available in “Qualitative_Bankruptcy.info.txt” file"
   ]
  },
  {
   "cell_type": "code",
   "execution_count": null,
   "metadata": {},
   "outputs": [],
   "source": [
    "#1.Reading the dataset and understanding the features and target variable."
   ]
  },
  {
   "cell_type": "code",
   "execution_count": 6,
   "metadata": {},
   "outputs": [],
   "source": [
    "%matplotlib inline\n",
    "import numpy as np\n",
    "import pandas as pd\n",
    "import matplotlib.pyplot as plt \n",
    "import seaborn as sns\n",
    "from sklearn.model_selection import train_test_split\n",
    "from sklearn.preprocessing import StandardScaler\n",
    "from sklearn.decomposition import PCA\n",
    "from scipy.stats import zscore\n",
    "from sklearn import model_selection"
   ]
  },
  {
   "cell_type": "code",
   "execution_count": 8,
   "metadata": {},
   "outputs": [
    {
     "data": {
      "text/html": [
       "<div>\n",
       "<style scoped>\n",
       "    .dataframe tbody tr th:only-of-type {\n",
       "        vertical-align: middle;\n",
       "    }\n",
       "\n",
       "    .dataframe tbody tr th {\n",
       "        vertical-align: top;\n",
       "    }\n",
       "\n",
       "    .dataframe thead th {\n",
       "        text-align: right;\n",
       "    }\n",
       "</style>\n",
       "<table border=\"1\" class=\"dataframe\">\n",
       "  <thead>\n",
       "    <tr style=\"text-align: right;\">\n",
       "      <th></th>\n",
       "      <th>Industrial_Risk</th>\n",
       "      <th>Management_Risk</th>\n",
       "      <th>Financial_Flexibility</th>\n",
       "      <th>Credibility</th>\n",
       "      <th>Competitiveness</th>\n",
       "      <th>Operating_Risk</th>\n",
       "      <th>Class</th>\n",
       "    </tr>\n",
       "  </thead>\n",
       "  <tbody>\n",
       "    <tr>\n",
       "      <th>0</th>\n",
       "      <td>P</td>\n",
       "      <td>P</td>\n",
       "      <td>A</td>\n",
       "      <td>A</td>\n",
       "      <td>A</td>\n",
       "      <td>P</td>\n",
       "      <td>NB</td>\n",
       "    </tr>\n",
       "    <tr>\n",
       "      <th>1</th>\n",
       "      <td>N</td>\n",
       "      <td>N</td>\n",
       "      <td>A</td>\n",
       "      <td>A</td>\n",
       "      <td>A</td>\n",
       "      <td>N</td>\n",
       "      <td>NB</td>\n",
       "    </tr>\n",
       "    <tr>\n",
       "      <th>2</th>\n",
       "      <td>A</td>\n",
       "      <td>A</td>\n",
       "      <td>A</td>\n",
       "      <td>A</td>\n",
       "      <td>A</td>\n",
       "      <td>A</td>\n",
       "      <td>NB</td>\n",
       "    </tr>\n",
       "    <tr>\n",
       "      <th>3</th>\n",
       "      <td>P</td>\n",
       "      <td>P</td>\n",
       "      <td>P</td>\n",
       "      <td>P</td>\n",
       "      <td>P</td>\n",
       "      <td>P</td>\n",
       "      <td>NB</td>\n",
       "    </tr>\n",
       "    <tr>\n",
       "      <th>4</th>\n",
       "      <td>N</td>\n",
       "      <td>N</td>\n",
       "      <td>P</td>\n",
       "      <td>P</td>\n",
       "      <td>P</td>\n",
       "      <td>N</td>\n",
       "      <td>NB</td>\n",
       "    </tr>\n",
       "  </tbody>\n",
       "</table>\n",
       "</div>"
      ],
      "text/plain": [
       "  Industrial_Risk Management_Risk Financial_Flexibility Credibility  \\\n",
       "0               P               P                     A           A   \n",
       "1               N               N                     A           A   \n",
       "2               A               A                     A           A   \n",
       "3               P               P                     P           P   \n",
       "4               N               N                     P           P   \n",
       "\n",
       "  Competitiveness Operating_Risk Class  \n",
       "0               A              P    NB  \n",
       "1               A              N    NB  \n",
       "2               A              A    NB  \n",
       "3               P              P    NB  \n",
       "4               P              N    NB  "
      ]
     },
     "execution_count": 8,
     "metadata": {},
     "output_type": "execute_result"
    }
   ],
   "source": [
    "col_names=[\"Industrial_Risk\", \"Management_Risk\", \"Financial_Flexibility\", \"Credibility\", \"Competitiveness\", \"Operating_Risk\", \"Class\"]\n",
    "bkd_df = pd.read_csv(\"Qualitative_Bankruptcy.data.txt\",names=col_names) \n",
    "bkd_df.head()"
   ]
  },
  {
   "cell_type": "code",
   "execution_count": 9,
   "metadata": {},
   "outputs": [
    {
     "data": {
      "text/plain": [
       "(1750, (250, 7))"
      ]
     },
     "execution_count": 9,
     "metadata": {},
     "output_type": "execute_result"
    }
   ],
   "source": [
    "bkd_df.size,bkd_df.shape"
   ]
  },
  {
   "cell_type": "code",
   "execution_count": 10,
   "metadata": {},
   "outputs": [
    {
     "name": "stdout",
     "output_type": "stream",
     "text": [
      "<class 'pandas.core.frame.DataFrame'>\n",
      "RangeIndex: 250 entries, 0 to 249\n",
      "Data columns (total 7 columns):\n",
      " #   Column                 Non-Null Count  Dtype \n",
      "---  ------                 --------------  ----- \n",
      " 0   Industrial_Risk        250 non-null    object\n",
      " 1   Management_Risk        250 non-null    object\n",
      " 2   Financial_Flexibility  250 non-null    object\n",
      " 3   Credibility            250 non-null    object\n",
      " 4   Competitiveness        250 non-null    object\n",
      " 5   Operating_Risk         250 non-null    object\n",
      " 6   Class                  250 non-null    object\n",
      "dtypes: object(7)\n",
      "memory usage: 13.8+ KB\n"
     ]
    }
   ],
   "source": [
    "bkd_df.info()"
   ]
  },
  {
   "cell_type": "code",
   "execution_count": 11,
   "metadata": {},
   "outputs": [
    {
     "data": {
      "text/plain": [
       "N    89\n",
       "A    81\n",
       "P    80\n",
       "Name: Industrial_Risk, dtype: int64"
      ]
     },
     "execution_count": 11,
     "metadata": {},
     "output_type": "execute_result"
    }
   ],
   "source": [
    "bkd_df.Industrial_Risk.value_counts()"
   ]
  },
  {
   "cell_type": "code",
   "execution_count": 12,
   "metadata": {},
   "outputs": [
    {
     "data": {
      "text/plain": [
       "N    119\n",
       "A     69\n",
       "P     62\n",
       "Name: Management_Risk, dtype: int64"
      ]
     },
     "execution_count": 12,
     "metadata": {},
     "output_type": "execute_result"
    }
   ],
   "source": [
    "bkd_df.Management_Risk.value_counts()"
   ]
  },
  {
   "cell_type": "code",
   "execution_count": 13,
   "metadata": {},
   "outputs": [
    {
     "data": {
      "text/plain": [
       "N    119\n",
       "A     74\n",
       "P     57\n",
       "Name: Financial_Flexibility, dtype: int64"
      ]
     },
     "execution_count": 13,
     "metadata": {},
     "output_type": "execute_result"
    }
   ],
   "source": [
    "bkd_df.Financial_Flexibility.value_counts()"
   ]
  },
  {
   "cell_type": "code",
   "execution_count": 14,
   "metadata": {},
   "outputs": [
    {
     "data": {
      "text/plain": [
       "N    94\n",
       "P    79\n",
       "A    77\n",
       "Name: Credibility, dtype: int64"
      ]
     },
     "execution_count": 14,
     "metadata": {},
     "output_type": "execute_result"
    }
   ],
   "source": [
    "bkd_df.Credibility.value_counts()"
   ]
  },
  {
   "cell_type": "code",
   "execution_count": 15,
   "metadata": {},
   "outputs": [
    {
     "data": {
      "text/plain": [
       "N    103\n",
       "P     91\n",
       "A     56\n",
       "Name: Competitiveness, dtype: int64"
      ]
     },
     "execution_count": 15,
     "metadata": {},
     "output_type": "execute_result"
    }
   ],
   "source": [
    "bkd_df.Competitiveness.value_counts()"
   ]
  },
  {
   "cell_type": "code",
   "execution_count": 16,
   "metadata": {},
   "outputs": [
    {
     "data": {
      "text/plain": [
       "N    114\n",
       "P     79\n",
       "A     57\n",
       "Name: Operating_Risk, dtype: int64"
      ]
     },
     "execution_count": 16,
     "metadata": {},
     "output_type": "execute_result"
    }
   ],
   "source": [
    "bkd_df.Operating_Risk.value_counts()"
   ]
  },
  {
   "cell_type": "code",
   "execution_count": 17,
   "metadata": {},
   "outputs": [
    {
     "data": {
      "text/plain": [
       "NB    143\n",
       "B     107\n",
       "Name: Class, dtype: int64"
      ]
     },
     "execution_count": 17,
     "metadata": {},
     "output_type": "execute_result"
    }
   ],
   "source": [
    "bkd_df.Class.value_counts()"
   ]
  },
  {
   "cell_type": "markdown",
   "metadata": {},
   "source": [
    "#2.Encoding independent features"
   ]
  },
  {
   "cell_type": "code",
   "execution_count": 18,
   "metadata": {},
   "outputs": [
    {
     "name": "stdout",
     "output_type": "stream",
     "text": [
      "Number of categories in Industrial_Risk = 3\n",
      "Number of categories in Management_Risk = 3\n",
      "Number of categories in Financial_Flexibility = 3\n",
      "Number of categories in Credibility = 3\n",
      "Number of categories in Competitiveness = 3\n",
      "Number of categories in Operating_Risk = 3\n",
      "Number of categories in Class = 2\n"
     ]
    }
   ],
   "source": [
    "cat_col = []  # list to hold the categorical features\n",
    "for i in bkd_df.columns:  # Loop to go through each and every column name\n",
    "    if bkd_df[i].dtype == object:  # check if the column is of object type\n",
    "        cat_col.append(i)  # append the ones that satisfy above condition to the list\n",
    "    bkd_df.loc[0:3, cat_col]\n",
    "for i in cat_col:\n",
    "    print(f'Number of categories in {i} = {len(bkd_df[i].unique())}')"
   ]
  },
  {
   "cell_type": "code",
   "execution_count": 19,
   "metadata": {},
   "outputs": [],
   "source": [
    "from sklearn.preprocessing import LabelEncoder\n",
    "for i in cat_col:\n",
    "    encoder = LabelEncoder()\n",
    "    bkd_df[i] = encoder.fit_transform(bkd_df[i])"
   ]
  },
  {
   "cell_type": "code",
   "execution_count": 20,
   "metadata": {},
   "outputs": [
    {
     "name": "stdout",
     "output_type": "stream",
     "text": [
      "<class 'pandas.core.frame.DataFrame'>\n",
      "RangeIndex: 250 entries, 0 to 249\n",
      "Data columns (total 7 columns):\n",
      " #   Column                 Non-Null Count  Dtype\n",
      "---  ------                 --------------  -----\n",
      " 0   Industrial_Risk        250 non-null    int32\n",
      " 1   Management_Risk        250 non-null    int32\n",
      " 2   Financial_Flexibility  250 non-null    int32\n",
      " 3   Credibility            250 non-null    int32\n",
      " 4   Competitiveness        250 non-null    int32\n",
      " 5   Operating_Risk         250 non-null    int32\n",
      " 6   Class                  250 non-null    int32\n",
      "dtypes: int32(7)\n",
      "memory usage: 7.0 KB\n"
     ]
    }
   ],
   "source": [
    "bkd_df.info()"
   ]
  },
  {
   "cell_type": "code",
   "execution_count": 21,
   "metadata": {},
   "outputs": [
    {
     "data": {
      "text/html": [
       "<div>\n",
       "<style scoped>\n",
       "    .dataframe tbody tr th:only-of-type {\n",
       "        vertical-align: middle;\n",
       "    }\n",
       "\n",
       "    .dataframe tbody tr th {\n",
       "        vertical-align: top;\n",
       "    }\n",
       "\n",
       "    .dataframe thead th {\n",
       "        text-align: right;\n",
       "    }\n",
       "</style>\n",
       "<table border=\"1\" class=\"dataframe\">\n",
       "  <thead>\n",
       "    <tr style=\"text-align: right;\">\n",
       "      <th></th>\n",
       "      <th>Industrial_Risk</th>\n",
       "      <th>Management_Risk</th>\n",
       "      <th>Financial_Flexibility</th>\n",
       "      <th>Credibility</th>\n",
       "      <th>Competitiveness</th>\n",
       "      <th>Operating_Risk</th>\n",
       "      <th>Class</th>\n",
       "    </tr>\n",
       "  </thead>\n",
       "  <tbody>\n",
       "    <tr>\n",
       "      <th>0</th>\n",
       "      <td>2</td>\n",
       "      <td>2</td>\n",
       "      <td>0</td>\n",
       "      <td>0</td>\n",
       "      <td>0</td>\n",
       "      <td>2</td>\n",
       "      <td>1</td>\n",
       "    </tr>\n",
       "    <tr>\n",
       "      <th>1</th>\n",
       "      <td>1</td>\n",
       "      <td>1</td>\n",
       "      <td>0</td>\n",
       "      <td>0</td>\n",
       "      <td>0</td>\n",
       "      <td>1</td>\n",
       "      <td>1</td>\n",
       "    </tr>\n",
       "    <tr>\n",
       "      <th>2</th>\n",
       "      <td>0</td>\n",
       "      <td>0</td>\n",
       "      <td>0</td>\n",
       "      <td>0</td>\n",
       "      <td>0</td>\n",
       "      <td>0</td>\n",
       "      <td>1</td>\n",
       "    </tr>\n",
       "    <tr>\n",
       "      <th>3</th>\n",
       "      <td>2</td>\n",
       "      <td>2</td>\n",
       "      <td>2</td>\n",
       "      <td>2</td>\n",
       "      <td>2</td>\n",
       "      <td>2</td>\n",
       "      <td>1</td>\n",
       "    </tr>\n",
       "    <tr>\n",
       "      <th>4</th>\n",
       "      <td>1</td>\n",
       "      <td>1</td>\n",
       "      <td>2</td>\n",
       "      <td>2</td>\n",
       "      <td>2</td>\n",
       "      <td>1</td>\n",
       "      <td>1</td>\n",
       "    </tr>\n",
       "  </tbody>\n",
       "</table>\n",
       "</div>"
      ],
      "text/plain": [
       "   Industrial_Risk  Management_Risk  Financial_Flexibility  Credibility  \\\n",
       "0                2                2                      0            0   \n",
       "1                1                1                      0            0   \n",
       "2                0                0                      0            0   \n",
       "3                2                2                      2            2   \n",
       "4                1                1                      2            2   \n",
       "\n",
       "   Competitiveness  Operating_Risk  Class  \n",
       "0                0               2      1  \n",
       "1                0               1      1  \n",
       "2                0               0      1  \n",
       "3                2               2      1  \n",
       "4                2               1      1  "
      ]
     },
     "execution_count": 21,
     "metadata": {},
     "output_type": "execute_result"
    }
   ],
   "source": [
    "bkd_df.head()"
   ]
  },
  {
   "cell_type": "code",
   "execution_count": 22,
   "metadata": {},
   "outputs": [
    {
     "data": {
      "text/html": [
       "<div>\n",
       "<style scoped>\n",
       "    .dataframe tbody tr th:only-of-type {\n",
       "        vertical-align: middle;\n",
       "    }\n",
       "\n",
       "    .dataframe tbody tr th {\n",
       "        vertical-align: top;\n",
       "    }\n",
       "\n",
       "    .dataframe thead th {\n",
       "        text-align: right;\n",
       "    }\n",
       "</style>\n",
       "<table border=\"1\" class=\"dataframe\">\n",
       "  <thead>\n",
       "    <tr style=\"text-align: right;\">\n",
       "      <th></th>\n",
       "      <th>count</th>\n",
       "      <th>mean</th>\n",
       "      <th>std</th>\n",
       "      <th>min</th>\n",
       "      <th>25%</th>\n",
       "      <th>50%</th>\n",
       "      <th>75%</th>\n",
       "      <th>max</th>\n",
       "    </tr>\n",
       "  </thead>\n",
       "  <tbody>\n",
       "    <tr>\n",
       "      <th>Industrial_Risk</th>\n",
       "      <td>250.0</td>\n",
       "      <td>0.996</td>\n",
       "      <td>0.804096</td>\n",
       "      <td>0.0</td>\n",
       "      <td>0.0</td>\n",
       "      <td>1.0</td>\n",
       "      <td>2.0</td>\n",
       "      <td>2.0</td>\n",
       "    </tr>\n",
       "    <tr>\n",
       "      <th>Management_Risk</th>\n",
       "      <td>250.0</td>\n",
       "      <td>0.972</td>\n",
       "      <td>0.724788</td>\n",
       "      <td>0.0</td>\n",
       "      <td>0.0</td>\n",
       "      <td>1.0</td>\n",
       "      <td>1.0</td>\n",
       "      <td>2.0</td>\n",
       "    </tr>\n",
       "    <tr>\n",
       "      <th>Financial_Flexibility</th>\n",
       "      <td>250.0</td>\n",
       "      <td>0.932</td>\n",
       "      <td>0.722123</td>\n",
       "      <td>0.0</td>\n",
       "      <td>0.0</td>\n",
       "      <td>1.0</td>\n",
       "      <td>1.0</td>\n",
       "      <td>2.0</td>\n",
       "    </tr>\n",
       "    <tr>\n",
       "      <th>Credibility</th>\n",
       "      <td>250.0</td>\n",
       "      <td>1.008</td>\n",
       "      <td>0.791481</td>\n",
       "      <td>0.0</td>\n",
       "      <td>0.0</td>\n",
       "      <td>1.0</td>\n",
       "      <td>2.0</td>\n",
       "      <td>2.0</td>\n",
       "    </tr>\n",
       "    <tr>\n",
       "      <th>Competitiveness</th>\n",
       "      <td>250.0</td>\n",
       "      <td>1.140</td>\n",
       "      <td>0.755435</td>\n",
       "      <td>0.0</td>\n",
       "      <td>1.0</td>\n",
       "      <td>1.0</td>\n",
       "      <td>2.0</td>\n",
       "      <td>2.0</td>\n",
       "    </tr>\n",
       "    <tr>\n",
       "      <th>Operating_Risk</th>\n",
       "      <td>250.0</td>\n",
       "      <td>1.088</td>\n",
       "      <td>0.733764</td>\n",
       "      <td>0.0</td>\n",
       "      <td>1.0</td>\n",
       "      <td>1.0</td>\n",
       "      <td>2.0</td>\n",
       "      <td>2.0</td>\n",
       "    </tr>\n",
       "    <tr>\n",
       "      <th>Class</th>\n",
       "      <td>250.0</td>\n",
       "      <td>0.572</td>\n",
       "      <td>0.495781</td>\n",
       "      <td>0.0</td>\n",
       "      <td>0.0</td>\n",
       "      <td>1.0</td>\n",
       "      <td>1.0</td>\n",
       "      <td>1.0</td>\n",
       "    </tr>\n",
       "  </tbody>\n",
       "</table>\n",
       "</div>"
      ],
      "text/plain": [
       "                       count   mean       std  min  25%  50%  75%  max\n",
       "Industrial_Risk        250.0  0.996  0.804096  0.0  0.0  1.0  2.0  2.0\n",
       "Management_Risk        250.0  0.972  0.724788  0.0  0.0  1.0  1.0  2.0\n",
       "Financial_Flexibility  250.0  0.932  0.722123  0.0  0.0  1.0  1.0  2.0\n",
       "Credibility            250.0  1.008  0.791481  0.0  0.0  1.0  2.0  2.0\n",
       "Competitiveness        250.0  1.140  0.755435  0.0  1.0  1.0  2.0  2.0\n",
       "Operating_Risk         250.0  1.088  0.733764  0.0  1.0  1.0  2.0  2.0\n",
       "Class                  250.0  0.572  0.495781  0.0  0.0  1.0  1.0  1.0"
      ]
     },
     "execution_count": 22,
     "metadata": {},
     "output_type": "execute_result"
    }
   ],
   "source": [
    "bkd_df.describe().T"
   ]
  },
  {
   "cell_type": "code",
   "execution_count": 23,
   "metadata": {},
   "outputs": [
    {
     "data": {
      "image/png": "[encoded data removed]",
      "text/plain": [
       "<Figure size 720x216 with 7 Axes>"
      ]
     },
     "metadata": {
      "needs_background": "light"
     },
     "output_type": "display_data"
    }
   ],
   "source": [
    "f, ax = plt.subplots(1, 7, figsize=(10,3))\n",
    "vis1 = sns.distplot(bkd_df[\"Industrial_Risk\"],bins=10, ax= ax[0])"
   ]
  },
  {
   "cell_type": "code",
   "execution_count": 24,
   "metadata": {},
   "outputs": [
    {
     "data": {
      "image/png": "[encoded data removed]",
      "text/plain": [
       "<Figure size 720x216 with 8 Axes>"
      ]
     },
     "metadata": {
      "needs_background": "light"
     },
     "output_type": "display_data"
    }
   ],
   "source": [
    "f, ax = plt.subplots(1, 8, figsize=(10,3))\n",
    "vis2 = sns.distplot(bkd_df[\"Management_Risk\"],bins=10, ax= ax[0])\n"
   ]
  },
  {
   "cell_type": "code",
   "execution_count": 25,
   "metadata": {},
   "outputs": [
    {
     "data": {
      "image/png": "[encoded data removed]",
      "text/plain": [
       "<Figure size 720x216 with 7 Axes>"
      ]
     },
     "metadata": {
      "needs_background": "light"
     },
     "output_type": "display_data"
    }
   ],
   "source": [
    "f, ax = plt.subplots(1, 7, figsize=(10,3))\n",
    "vis3 = sns.distplot(bkd_df[\"Financial_Flexibility\"],bins=10, ax= ax[0])"
   ]
  },
  {
   "cell_type": "code",
   "execution_count": 26,
   "metadata": {},
   "outputs": [
    {
     "data": {
      "image/png": "[encoded data removed]",
      "text/plain": [
       "<Figure size 720x216 with 7 Axes>"
      ]
     },
     "metadata": {
      "needs_background": "light"
     },
     "output_type": "display_data"
    }
   ],
   "source": [
    "f, ax = plt.subplots(1, 7, figsize=(10,3))\n",
    "vis4 = sns.distplot(bkd_df[\"Credibility\"],bins=10, ax= ax[0])"
   ]
  },
  {
   "cell_type": "code",
   "execution_count": 27,
   "metadata": {},
   "outputs": [
    {
     "data": {
      "image/png": "[encoded data removed]",
      "text/plain": [
       "<Figure size 720x216 with 7 Axes>"
      ]
     },
     "metadata": {
      "needs_background": "light"
     },
     "output_type": "display_data"
    }
   ],
   "source": [
    "f, ax = plt.subplots(1, 7, figsize=(10,3))\n",
    "vis5 = sns.distplot(bkd_df[\"Competitiveness\"],bins=10, ax= ax[0])"
   ]
  },
  {
   "cell_type": "code",
   "execution_count": 28,
   "metadata": {},
   "outputs": [
    {
     "data": {
      "image/png": "[encoded data removed]",
      "text/plain": [
       "<Figure size 720x216 with 7 Axes>"
      ]
     },
     "metadata": {
      "needs_background": "light"
     },
     "output_type": "display_data"
    }
   ],
   "source": [
    "f, ax = plt.subplots(1, 7, figsize=(10,3))\n",
    "vis6 = sns.distplot(bkd_df[\"Operating_Risk\"],bins=10, ax= ax[0])"
   ]
  },
  {
   "cell_type": "code",
   "execution_count": 29,
   "metadata": {},
   "outputs": [
    {
     "data": {
      "image/png": "[encoded data removed]",
      "text/plain": [
       "<Figure size 720x216 with 7 Axes>"
      ]
     },
     "metadata": {
      "needs_background": "light"
     },
     "output_type": "display_data"
    }
   ],
   "source": [
    "f, ax = plt.subplots(1, 7, figsize=(10,3))\n",
    "vis7 = sns.distplot(bkd_df[\"Class\"],bins=10, ax= ax[0])"
   ]
  },
  {
   "cell_type": "markdown",
   "metadata": {},
   "source": [
    "#3. Separating the dependant variable from the rest of the train data"
   ]
  },
  {
   "cell_type": "code",
   "execution_count": 30,
   "metadata": {},
   "outputs": [],
   "source": [
    "X = bkd_df.drop(columns= [\"Class\"])\n",
    "y = bkd_df[\"Class\"]"
   ]
  },
  {
   "cell_type": "code",
   "execution_count": 31,
   "metadata": {},
   "outputs": [
    {
     "data": {
      "text/plain": [
       "((250, 6), 1500, (250,), 250)"
      ]
     },
     "execution_count": 31,
     "metadata": {},
     "output_type": "execute_result"
    }
   ],
   "source": [
    "X.shape,X.size,y.shape,y.size"
   ]
  },
  {
   "cell_type": "code",
   "execution_count": 32,
   "metadata": {},
   "outputs": [
    {
     "name": "stdout",
     "output_type": "stream",
     "text": [
      "<class 'pandas.core.frame.DataFrame'>\n",
      "RangeIndex: 250 entries, 0 to 249\n",
      "Data columns (total 6 columns):\n",
      " #   Column                 Non-Null Count  Dtype\n",
      "---  ------                 --------------  -----\n",
      " 0   Industrial_Risk        250 non-null    int32\n",
      " 1   Management_Risk        250 non-null    int32\n",
      " 2   Financial_Flexibility  250 non-null    int32\n",
      " 3   Credibility            250 non-null    int32\n",
      " 4   Competitiveness        250 non-null    int32\n",
      " 5   Operating_Risk         250 non-null    int32\n",
      "dtypes: int32(6)\n",
      "memory usage: 6.0 KB\n"
     ]
    }
   ],
   "source": [
    "X.info()"
   ]
  },
  {
   "cell_type": "code",
   "execution_count": 33,
   "metadata": {},
   "outputs": [
    {
     "data": {
      "text/plain": [
       "dtype('int32')"
      ]
     },
     "execution_count": 33,
     "metadata": {},
     "output_type": "execute_result"
    }
   ],
   "source": [
    "y.dtypes"
   ]
  },
  {
   "cell_type": "markdown",
   "metadata": {},
   "source": [
    "#4.Splitting the dataset into training and test data"
   ]
  },
  {
   "cell_type": "code",
   "execution_count": 34,
   "metadata": {},
   "outputs": [],
   "source": [
    "from sklearn import model_selection\n",
    "test_size = 0.20 # taking 70:30 training and test set\n",
    "seed = 7  # Random numbmer seeding for reapeatability of the code\n",
    "X_train, X_test, y_train, y_test = model_selection.train_test_split(X, y, test_size=test_size, random_state=seed)"
   ]
  },
  {
   "cell_type": "code",
   "execution_count": 35,
   "metadata": {},
   "outputs": [
    {
     "data": {
      "text/plain": [
       "((200, 6), (50, 6), (200,), (50,))"
      ]
     },
     "execution_count": 35,
     "metadata": {},
     "output_type": "execute_result"
    }
   ],
   "source": [
    "X_train.shape, X_test.shape, y_train.shape, y_test.shape"
   ]
  },
  {
   "cell_type": "markdown",
   "metadata": {},
   "source": [
    "#5.Applying PCA on the independent features of train data."
   ]
  },
  {
   "cell_type": "code",
   "execution_count": 36,
   "metadata": {},
   "outputs": [
    {
     "data": {
      "text/plain": [
       "<seaborn.axisgrid.PairGrid at 0x1f38c454370>"
      ]
     },
     "execution_count": 36,
     "metadata": {},
     "output_type": "execute_result"
    },
    {
     "data": {
      "image/png": "[encoded data removed]",
      "text/plain": [
       "<Figure size 1080x1080 with 42 Axes>"
      ]
     },
     "metadata": {
      "needs_background": "light"
     },
     "output_type": "display_data"
    }
   ],
   "source": [
    "#Visually see the independent variable data\n",
    "sns.pairplot(X, diag_kind='kde')"
   ]
  },
  {
   "cell_type": "code",
   "execution_count": 37,
   "metadata": {},
   "outputs": [],
   "source": [
    "# Transform (centralize) the entire X (independent variable data) to zscores through transformation to create the PCA dimensions\n",
    "X_train_sd = StandardScaler().fit_transform(X_train)\n",
    "X_test_sd = StandardScaler().fit_transform(X_test)"
   ]
  },
  {
   "cell_type": "code",
   "execution_count": 38,
   "metadata": {},
   "outputs": [
    {
     "data": {
      "text/plain": [
       "array([[ 0.05747661, -0.01414355,  0.05723638, -1.32110018, -0.16864581,\n",
       "        -1.49455363],\n",
       "       [ 0.05747661, -0.01414355, -1.37367314, -1.32110018, -1.51781233,\n",
       "        -0.12340351],\n",
       "       [ 1.33473457, -1.42849855,  1.4881459 ,  1.23175041,  1.1805207 ,\n",
       "        -0.12340351],\n",
       "       ...,\n",
       "       [ 1.33473457, -0.01414355, -1.37367314, -1.32110018, -1.51781233,\n",
       "         1.24774661],\n",
       "       [-1.21978135,  1.40021145,  0.05723638, -1.32110018, -0.16864581,\n",
       "        -0.12340351],\n",
       "       [ 0.05747661, -1.42849855,  0.05723638, -0.04467489, -0.16864581,\n",
       "        -0.12340351]])"
      ]
     },
     "execution_count": 38,
     "metadata": {},
     "output_type": "execute_result"
    }
   ],
   "source": [
    "X_train_sd"
   ]
  },
  {
   "cell_type": "code",
   "execution_count": 43,
   "metadata": {},
   "outputs": [
    {
     "data": {
      "text/plain": [
       "array([[-0.18670401,  0.23481812,  0.22721188, -1.11631261, -0.25      ,\n",
       "        -1.45152899],\n",
       "       [-1.35360408, -1.069727  ,  0.22721188,  0.12403473, -0.25      ,\n",
       "        -0.10752067],\n",
       "       [ 0.98019606, -1.069727  ,  1.48950011,  0.12403473,  1.        ,\n",
       "        -0.10752067],\n",
       "       [-1.35360408,  1.53936325, -1.03507635, -1.11631261, -1.5       ,\n",
       "         1.23648766],\n",
       "       [ 0.98019606,  1.53936325,  1.48950011,  1.36438208,  1.        ,\n",
       "         1.23648766],\n",
       "       [-0.18670401,  0.23481812,  1.48950011, -1.11631261, -1.5       ,\n",
       "        -0.10752067],\n",
       "       [ 0.98019606, -1.069727  , -1.03507635,  1.36438208,  1.        ,\n",
       "        -0.10752067],\n",
       "       [ 0.98019606,  0.23481812,  0.22721188,  0.12403473, -0.25      ,\n",
       "        -0.10752067],\n",
       "       [ 0.98019606,  0.23481812,  1.48950011,  1.36438208,  1.        ,\n",
       "        -0.10752067],\n",
       "       [-0.18670401,  0.23481812, -1.03507635,  1.36438208, -1.5       ,\n",
       "        -0.10752067],\n",
       "       [ 0.98019606,  0.23481812,  0.22721188,  0.12403473, -0.25      ,\n",
       "        -0.10752067],\n",
       "       [-0.18670401,  0.23481812, -1.03507635,  0.12403473, -0.25      ,\n",
       "        -0.10752067],\n",
       "       [-0.18670401,  0.23481812, -1.03507635,  1.36438208,  1.        ,\n",
       "         1.23648766],\n",
       "       [-0.18670401,  1.53936325,  0.22721188,  1.36438208,  1.        ,\n",
       "        -1.45152899],\n",
       "       [ 0.98019606, -1.069727  , -1.03507635, -1.11631261,  1.        ,\n",
       "        -1.45152899],\n",
       "       [-1.35360408,  0.23481812, -1.03507635, -1.11631261,  1.        ,\n",
       "        -0.10752067],\n",
       "       [-1.35360408, -1.069727  , -1.03507635, -1.11631261,  1.        ,\n",
       "        -1.45152899],\n",
       "       [-0.18670401, -1.069727  ,  0.22721188,  0.12403473, -0.25      ,\n",
       "         1.23648766],\n",
       "       [-1.35360408, -1.069727  , -1.03507635, -1.11631261, -1.5       ,\n",
       "         1.23648766],\n",
       "       [-1.35360408, -1.069727  ,  0.22721188,  0.12403473, -0.25      ,\n",
       "        -0.10752067],\n",
       "       [ 0.98019606,  0.23481812,  0.22721188,  0.12403473, -0.25      ,\n",
       "        -0.10752067],\n",
       "       [ 0.98019606,  0.23481812,  0.22721188,  0.12403473, -0.25      ,\n",
       "        -0.10752067],\n",
       "       [ 0.98019606,  0.23481812, -1.03507635, -1.11631261, -1.5       ,\n",
       "         1.23648766],\n",
       "       [-1.35360408, -1.069727  , -1.03507635, -1.11631261, -1.5       ,\n",
       "         1.23648766],\n",
       "       [ 0.98019606,  0.23481812,  0.22721188,  0.12403473, -0.25      ,\n",
       "        -0.10752067],\n",
       "       [ 0.98019606, -1.069727  ,  1.48950011, -1.11631261,  1.        ,\n",
       "        -0.10752067],\n",
       "       [-0.18670401,  0.23481812,  1.48950011,  1.36438208,  1.        ,\n",
       "        -1.45152899],\n",
       "       [ 0.98019606,  1.53936325,  1.48950011, -1.11631261,  1.        ,\n",
       "         1.23648766],\n",
       "       [ 0.98019606, -1.069727  ,  0.22721188,  0.12403473, -0.25      ,\n",
       "        -1.45152899],\n",
       "       [-1.35360408, -1.069727  , -1.03507635, -1.11631261, -1.5       ,\n",
       "        -1.45152899],\n",
       "       [-1.35360408, -1.069727  ,  1.48950011, -1.11631261,  1.        ,\n",
       "        -1.45152899],\n",
       "       [-1.35360408,  1.53936325, -1.03507635, -1.11631261, -1.5       ,\n",
       "         1.23648766],\n",
       "       [ 0.98019606,  1.53936325, -1.03507635,  1.36438208,  1.        ,\n",
       "         1.23648766],\n",
       "       [ 0.98019606,  1.53936325, -1.03507635,  1.36438208,  1.        ,\n",
       "         1.23648766],\n",
       "       [ 0.98019606, -1.069727  ,  1.48950011,  0.12403473,  1.        ,\n",
       "        -0.10752067],\n",
       "       [-0.18670401,  1.53936325, -1.03507635, -1.11631261, -1.5       ,\n",
       "        -0.10752067],\n",
       "       [-1.35360408,  1.53936325,  1.48950011,  1.36438208,  1.        ,\n",
       "         1.23648766],\n",
       "       [ 0.98019606,  1.53936325,  1.48950011, -1.11631261, -1.5       ,\n",
       "         1.23648766],\n",
       "       [-1.35360408, -1.069727  , -1.03507635,  1.36438208,  1.        ,\n",
       "        -1.45152899],\n",
       "       [-0.18670401,  0.23481812,  0.22721188,  0.12403473, -0.25      ,\n",
       "        -0.10752067],\n",
       "       [-0.18670401,  0.23481812,  0.22721188,  0.12403473, -0.25      ,\n",
       "        -1.45152899],\n",
       "       [-1.35360408, -1.069727  ,  1.48950011, -1.11631261,  1.        ,\n",
       "        -1.45152899],\n",
       "       [ 0.98019606,  1.53936325, -1.03507635,  1.36438208, -1.5       ,\n",
       "         1.23648766],\n",
       "       [ 0.98019606, -1.069727  ,  0.22721188, -1.11631261,  1.        ,\n",
       "        -1.45152899],\n",
       "       [ 0.98019606,  0.23481812, -1.03507635, -1.11631261, -1.5       ,\n",
       "        -0.10752067],\n",
       "       [-0.18670401,  0.23481812, -1.03507635,  0.12403473, -0.25      ,\n",
       "        -0.10752067],\n",
       "       [ 0.98019606, -1.069727  , -1.03507635,  1.36438208,  1.        ,\n",
       "         1.23648766],\n",
       "       [ 0.98019606, -1.069727  ,  0.22721188,  0.12403473, -0.25      ,\n",
       "        -0.10752067],\n",
       "       [-1.35360408, -1.069727  ,  0.22721188,  1.36438208,  1.        ,\n",
       "         1.23648766],\n",
       "       [-1.35360408,  0.23481812,  0.22721188,  0.12403473, -0.25      ,\n",
       "        -0.10752067]])"
      ]
     },
     "execution_count": 43,
     "metadata": {},
     "output_type": "execute_result"
    }
   ],
   "source": [
    "X_test_sd"
   ]
  },
  {
   "cell_type": "code",
   "execution_count": 44,
   "metadata": {},
   "outputs": [
    {
     "name": "stdout",
     "output_type": "stream",
     "text": [
      "Covariance Matrix \n",
      "%s [[ 1.00502513  0.10975145  0.05179846 -0.11211552  0.0357203   0.20074088]\n",
      " [ 0.10975145  1.00502513 -0.02969617 -0.0641387  -0.10787565  0.21264007]\n",
      " [ 0.05179846 -0.02969617  1.00502513 -0.03414267  0.09701182 -0.04219761]\n",
      " [-0.11211552 -0.0641387  -0.03414267  1.00502513  0.00973555  0.02084374]\n",
      " [ 0.0357203  -0.10787565  0.09701182  0.00973555  1.00502513 -0.0302121 ]\n",
      " [ 0.20074088  0.21264007 -0.04219761  0.02084374 -0.0302121   1.00502513]]\n"
     ]
    }
   ],
   "source": [
    "cov_matrix = np.cov(X_train_sd.T)\n",
    "print('Covariance Matrix \\n%s', cov_matrix)"
   ]
  },
  {
   "cell_type": "code",
   "execution_count": 45,
   "metadata": {},
   "outputs": [
    {
     "name": "stdout",
     "output_type": "stream",
     "text": [
      "Eigenvectors \n",
      "[[-0.50561377 -0.39482081  0.47228565  0.55433463 -0.23173273  0.06656252]\n",
      " [-0.56321137  0.16901624  0.42089763 -0.61934798  0.29952015 -0.06137919]\n",
      " [ 0.06725356 -0.61138533 -0.12864009  0.05942193  0.77562823  0.00255946]\n",
      " [ 0.20908621  0.32030756  0.31785715  0.1647211   0.27178557  0.80724991]\n",
      " [ 0.18042285 -0.58076046  0.06052332 -0.52730654 -0.42434436  0.41034313]\n",
      " [-0.58851948  0.04334021 -0.69177086  0.02012457 -0.03244912  0.41444128]]\n",
      "Eigenvalues \n",
      "[1.38766227 1.15971624 0.72381663 0.82794817 0.91480842 1.01619902]\n"
     ]
    }
   ],
   "source": [
    "e_vals, e_vecs = np.linalg.eig(cov_matrix)\n",
    "print('Eigenvectors \\n%s' %e_vecs)\n",
    "print('Eigenvalues \\n%s' %e_vals)"
   ]
  },
  {
   "cell_type": "markdown",
   "metadata": {},
   "source": [
    "#6. Displaying elbow plot to find out reduced number of dimensions (which covers at least 95% of the variance)"
   ]
  },
  {
   "cell_type": "code",
   "execution_count": 46,
   "metadata": {},
   "outputs": [],
   "source": [
    "tot = sum(e_vals)\n",
    "var_exp = [( i /tot ) * 100 for i in sorted(e_vals, reverse=True)]\n",
    "cum_var_exp = np.cumsum(var_exp)"
   ]
  },
  {
   "cell_type": "code",
   "execution_count": 47,
   "metadata": {},
   "outputs": [
    {
     "data": {
      "image/png": "[encoded data removed]",
      "text/plain": [
       "<Figure size 720x360 with 1 Axes>"
      ]
     },
     "metadata": {
      "needs_background": "light"
     },
     "output_type": "display_data"
    }
   ],
   "source": [
    "# Ploting Elbow diagram\n",
    "plt.figure(figsize=(10 , 5))\n",
    "plt.bar(range(1,e_vals.size+1), var_exp, alpha=0.5, align='center', label='Individual Explained Variance')\n",
    "plt.step(range(1,e_vals.size+1),cum_var_exp, where= 'mid', label='Cumulative Explained Variance')\n",
    "plt.ylabel('Explained Variance Ratio')\n",
    "plt.xlabel('Principal Components')\n",
    "plt.legend(loc = 'best')\n",
    "plt.tight_layout()\n",
    "plt.show()"
   ]
  },
  {
   "cell_type": "markdown",
   "metadata": {},
   "source": [
    "#For covering 95% of the data we need all the dimensions. no dimension can be removed from the model."
   ]
  },
  {
   "cell_type": "markdown",
   "metadata": {},
   "source": [
    "#7.Transforming the data using PCA ( select optimum number of PCs)."
   ]
  },
  {
   "cell_type": "code",
   "execution_count": 48,
   "metadata": {},
   "outputs": [
    {
     "name": "stdout",
     "output_type": "stream",
     "text": [
      "Matrix W:\n",
      " [[-0.50561377 -0.39482081]\n",
      " [-0.56321137  0.16901624]\n",
      " [ 0.06725356 -0.61138533]\n",
      " [ 0.20908621  0.32030756]\n",
      " [ 0.18042285 -0.58076046]\n",
      " [-0.58851948  0.04334021]]\n",
      "(200, 6) (6, 2) (200, 2)\n"
     ]
    },
    {
     "data": {
      "text/plain": [
       "[(1.3876622708883897,\n",
       "  array([-0.50561377, -0.56321137,  0.06725356,  0.20908621,  0.18042285,\n",
       "         -0.58851948])),\n",
       " (1.1597162431288888,\n",
       "  array([-0.39482081,  0.16901624, -0.61138533,  0.32030756, -0.58076046,\n",
       "          0.04334021])),\n",
       " (1.0161990205318903,\n",
       "  array([ 0.06656252, -0.06137919,  0.00255946,  0.80724991,  0.41034313,\n",
       "          0.41444128])),\n",
       " (0.9148084187169612,\n",
       "  array([-0.23173273,  0.29952015,  0.77562823,  0.27178557, -0.42434436,\n",
       "         -0.03244912])),\n",
       " (0.827948167867645,\n",
       "  array([ 0.55433463, -0.61934798,  0.05942193,  0.1647211 , -0.52730654,\n",
       "          0.02012457])),\n",
       " (0.7238166326350696,\n",
       "  array([ 0.47228565,  0.42089763, -0.12864009,  0.31785715,  0.06052332,\n",
       "         -0.69177086]))]"
      ]
     },
     "execution_count": 48,
     "metadata": {},
     "output_type": "execute_result"
    }
   ],
   "source": [
    "eigen_pairs = [(np.abs(e_vals[i]), e_vecs[:,i]) for i in range(len(e_vals))]\n",
    "eigen_pairs.sort(reverse=True)\n",
    "w = np.hstack((eigen_pairs[0][1].reshape(6,1),eigen_pairs[1][1].reshape(6,1)))\n",
    "print('Matrix W:\\n', w)\n",
    "X_sd_pca = X_train_sd.dot(w)\n",
    "print(X_train_sd.shape, w.shape, X_sd_pca.shape)\n",
    "eigen_pairs[:7]"
   ]
  },
  {
   "cell_type": "markdown",
   "metadata": {},
   "source": [
    "#8.Applying KMeans algorithm on the above transformed data."
   ]
  },
  {
   "cell_type": "code",
   "execution_count": 49,
   "metadata": {},
   "outputs": [],
   "source": [
    "#Applying K-Means Clustering\n",
    "from sklearn.cluster import KMeans\n",
    "from scipy.spatial.distance import cdist"
   ]
  },
  {
   "cell_type": "code",
   "execution_count": 50,
   "metadata": {},
   "outputs": [],
   "source": [
    "# Let us first start with K = 5\n",
    "final_model=KMeans(5)\n",
    "final_model.fit(X_train_sd)\n",
    "prediction=final_model.predict(X_train_sd)"
   ]
  },
  {
   "cell_type": "code",
   "execution_count": 51,
   "metadata": {},
   "outputs": [
    {
     "name": "stdout",
     "output_type": "stream",
     "text": [
      "Groups Assigned : \n",
      "\n"
     ]
    },
    {
     "name": "stderr",
     "output_type": "stream",
     "text": [
      "<ipython-input-51-56f5784fe903>:3: SettingWithCopyWarning: \n",
      "A value is trying to be set on a copy of a slice from a DataFrame.\n",
      "Try using .loc[row_indexer,col_indexer] = value instead\n",
      "\n",
      "See the caveats in the documentation: https://pandas.pydata.org/pandas-docs/stable/user_guide/indexing.html#returning-a-view-versus-a-copy\n",
      "  Predicted_df[\"Cluster_Group\"] = prediction\n"
     ]
    },
    {
     "data": {
      "text/html": [
       "<div>\n",
       "<style scoped>\n",
       "    .dataframe tbody tr th:only-of-type {\n",
       "        vertical-align: middle;\n",
       "    }\n",
       "\n",
       "    .dataframe tbody tr th {\n",
       "        vertical-align: top;\n",
       "    }\n",
       "\n",
       "    .dataframe thead th {\n",
       "        text-align: right;\n",
       "    }\n",
       "</style>\n",
       "<table border=\"1\" class=\"dataframe\">\n",
       "  <thead>\n",
       "    <tr style=\"text-align: right;\">\n",
       "      <th></th>\n",
       "      <th>Industrial_Risk</th>\n",
       "      <th>Management_Risk</th>\n",
       "      <th>Financial_Flexibility</th>\n",
       "      <th>Credibility</th>\n",
       "      <th>Competitiveness</th>\n",
       "      <th>Operating_Risk</th>\n",
       "      <th>Cluster_Group</th>\n",
       "    </tr>\n",
       "  </thead>\n",
       "  <tbody>\n",
       "    <tr>\n",
       "      <th>240</th>\n",
       "      <td>1</td>\n",
       "      <td>1</td>\n",
       "      <td>1</td>\n",
       "      <td>0</td>\n",
       "      <td>1</td>\n",
       "      <td>0</td>\n",
       "      <td>2</td>\n",
       "    </tr>\n",
       "    <tr>\n",
       "      <th>109</th>\n",
       "      <td>1</td>\n",
       "      <td>1</td>\n",
       "      <td>0</td>\n",
       "      <td>0</td>\n",
       "      <td>0</td>\n",
       "      <td>1</td>\n",
       "      <td>2</td>\n",
       "    </tr>\n",
       "    <tr>\n",
       "      <th>46</th>\n",
       "      <td>2</td>\n",
       "      <td>0</td>\n",
       "      <td>2</td>\n",
       "      <td>2</td>\n",
       "      <td>2</td>\n",
       "      <td>1</td>\n",
       "      <td>0</td>\n",
       "    </tr>\n",
       "    <tr>\n",
       "      <th>120</th>\n",
       "      <td>1</td>\n",
       "      <td>1</td>\n",
       "      <td>0</td>\n",
       "      <td>2</td>\n",
       "      <td>2</td>\n",
       "      <td>1</td>\n",
       "      <td>3</td>\n",
       "    </tr>\n",
       "    <tr>\n",
       "      <th>247</th>\n",
       "      <td>0</td>\n",
       "      <td>1</td>\n",
       "      <td>1</td>\n",
       "      <td>1</td>\n",
       "      <td>1</td>\n",
       "      <td>1</td>\n",
       "      <td>4</td>\n",
       "    </tr>\n",
       "  </tbody>\n",
       "</table>\n",
       "</div>"
      ],
      "text/plain": [
       "     Industrial_Risk  Management_Risk  Financial_Flexibility  Credibility  \\\n",
       "240                1                1                      1            0   \n",
       "109                1                1                      0            0   \n",
       "46                 2                0                      2            2   \n",
       "120                1                1                      0            2   \n",
       "247                0                1                      1            1   \n",
       "\n",
       "     Competitiveness  Operating_Risk  Cluster_Group  \n",
       "240                1               0              2  \n",
       "109                0               1              2  \n",
       "46                 2               1              0  \n",
       "120                2               1              3  \n",
       "247                1               1              4  "
      ]
     },
     "execution_count": 51,
     "metadata": {},
     "output_type": "execute_result"
    }
   ],
   "source": [
    "#Append the prediction \n",
    "Predicted_df=X_train\n",
    "Predicted_df[\"Cluster_Group\"] = prediction\n",
    "print(\"Groups Assigned : \\n\")\n",
    "Predicted_df.head()"
   ]
  },
  {
   "cell_type": "markdown",
   "metadata": {},
   "source": [
    "#9.Selecting optimal number of clusters and form clusters out of the train data"
   ]
  },
  {
   "cell_type": "code",
   "execution_count": 52,
   "metadata": {},
   "outputs": [],
   "source": [
    "clusters=range(1,7)\n",
    "meanDistortions=[]\n",
    "for k in clusters:\n",
    "    model=KMeans(n_clusters=k)\n",
    "    model.fit(X_train_sd)\n",
    "    prediction=model.predict(X_train_sd)\n",
    "    meanDistortions.append(sum(np.min(cdist(X_train_sd, model.cluster_centers_, 'euclidean'), axis=1)) / X_train_sd.shape[0])"
   ]
  },
  {
   "cell_type": "code",
   "execution_count": 53,
   "metadata": {},
   "outputs": [
    {
     "data": {
      "text/plain": [
       "Text(0.5, 1.0, 'Selecting k with the Elbow Method')"
      ]
     },
     "execution_count": 53,
     "metadata": {},
     "output_type": "execute_result"
    },
    {
     "data": {
      "image/png": "[encoded data removed]",
      "text/plain": [
       "<Figure size 432x288 with 1 Axes>"
      ]
     },
     "metadata": {
      "needs_background": "light"
     },
     "output_type": "display_data"
    }
   ],
   "source": [
    "plt.plot(clusters, meanDistortions, 'bx-')\n",
    "plt.xlabel('k')\n",
    "plt.ylabel('Average Distortion')\n",
    "plt.title('Selecting k with the Elbow Method')"
   ]
  },
  {
   "cell_type": "markdown",
   "metadata": {},
   "source": [
    "#Though the bend is not coming out clearly as there are 2 bends, let us look at 5 clusters"
   ]
  },
  {
   "cell_type": "markdown",
   "metadata": {},
   "source": [
    "#10.Creating a new column in the train data and populate it with the cluster labels."
   ]
  },
  {
   "cell_type": "code",
   "execution_count": 54,
   "metadata": {},
   "outputs": [
    {
     "name": "stdout",
     "output_type": "stream",
     "text": [
      "Groups Assigned : \n",
      "\n"
     ]
    },
    {
     "name": "stderr",
     "output_type": "stream",
     "text": [
      "<ipython-input-54-767d2d0aa548>:3: SettingWithCopyWarning: \n",
      "A value is trying to be set on a copy of a slice from a DataFrame.\n",
      "Try using .loc[row_indexer,col_indexer] = value instead\n",
      "\n",
      "See the caveats in the documentation: https://pandas.pydata.org/pandas-docs/stable/user_guide/indexing.html#returning-a-view-versus-a-copy\n",
      "  Predicted_df[\"Cluster_Group\"] = prediction\n"
     ]
    },
    {
     "data": {
      "text/html": [
       "<div>\n",
       "<style scoped>\n",
       "    .dataframe tbody tr th:only-of-type {\n",
       "        vertical-align: middle;\n",
       "    }\n",
       "\n",
       "    .dataframe tbody tr th {\n",
       "        vertical-align: top;\n",
       "    }\n",
       "\n",
       "    .dataframe thead th {\n",
       "        text-align: right;\n",
       "    }\n",
       "</style>\n",
       "<table border=\"1\" class=\"dataframe\">\n",
       "  <thead>\n",
       "    <tr style=\"text-align: right;\">\n",
       "      <th></th>\n",
       "      <th>Industrial_Risk</th>\n",
       "      <th>Management_Risk</th>\n",
       "      <th>Financial_Flexibility</th>\n",
       "      <th>Credibility</th>\n",
       "      <th>Competitiveness</th>\n",
       "      <th>Operating_Risk</th>\n",
       "      <th>Cluster_Group</th>\n",
       "    </tr>\n",
       "  </thead>\n",
       "  <tbody>\n",
       "    <tr>\n",
       "      <th>240</th>\n",
       "      <td>1</td>\n",
       "      <td>1</td>\n",
       "      <td>1</td>\n",
       "      <td>0</td>\n",
       "      <td>1</td>\n",
       "      <td>0</td>\n",
       "      <td>1</td>\n",
       "    </tr>\n",
       "    <tr>\n",
       "      <th>109</th>\n",
       "      <td>1</td>\n",
       "      <td>1</td>\n",
       "      <td>0</td>\n",
       "      <td>0</td>\n",
       "      <td>0</td>\n",
       "      <td>1</td>\n",
       "      <td>1</td>\n",
       "    </tr>\n",
       "    <tr>\n",
       "      <th>46</th>\n",
       "      <td>2</td>\n",
       "      <td>0</td>\n",
       "      <td>2</td>\n",
       "      <td>2</td>\n",
       "      <td>2</td>\n",
       "      <td>1</td>\n",
       "      <td>4</td>\n",
       "    </tr>\n",
       "    <tr>\n",
       "      <th>120</th>\n",
       "      <td>1</td>\n",
       "      <td>1</td>\n",
       "      <td>0</td>\n",
       "      <td>2</td>\n",
       "      <td>2</td>\n",
       "      <td>1</td>\n",
       "      <td>3</td>\n",
       "    </tr>\n",
       "    <tr>\n",
       "      <th>247</th>\n",
       "      <td>0</td>\n",
       "      <td>1</td>\n",
       "      <td>1</td>\n",
       "      <td>1</td>\n",
       "      <td>1</td>\n",
       "      <td>1</td>\n",
       "      <td>1</td>\n",
       "    </tr>\n",
       "  </tbody>\n",
       "</table>\n",
       "</div>"
      ],
      "text/plain": [
       "     Industrial_Risk  Management_Risk  Financial_Flexibility  Credibility  \\\n",
       "240                1                1                      1            0   \n",
       "109                1                1                      0            0   \n",
       "46                 2                0                      2            2   \n",
       "120                1                1                      0            2   \n",
       "247                0                1                      1            1   \n",
       "\n",
       "     Competitiveness  Operating_Risk  Cluster_Group  \n",
       "240                1               0              1  \n",
       "109                0               1              1  \n",
       "46                 2               1              4  \n",
       "120                2               1              3  \n",
       "247                1               1              1  "
      ]
     },
     "execution_count": 54,
     "metadata": {},
     "output_type": "execute_result"
    }
   ],
   "source": [
    "#Append the prediction to train data\n",
    "Predicted_df=X_train\n",
    "Predicted_df[\"Cluster_Group\"] = prediction\n",
    "print(\"Groups Assigned : \\n\")\n",
    "Predicted_df.head()"
   ]
  },
  {
   "cell_type": "code",
   "execution_count": 55,
   "metadata": {},
   "outputs": [
    {
     "name": "stdout",
     "output_type": "stream",
     "text": [
      "<class 'pandas.core.frame.DataFrame'>\n",
      "Int64Index: 200 entries, 240 to 175\n",
      "Data columns (total 7 columns):\n",
      " #   Column                 Non-Null Count  Dtype\n",
      "---  ------                 --------------  -----\n",
      " 0   Industrial_Risk        200 non-null    int32\n",
      " 1   Management_Risk        200 non-null    int32\n",
      " 2   Financial_Flexibility  200 non-null    int32\n",
      " 3   Credibility            200 non-null    int32\n",
      " 4   Competitiveness        200 non-null    int32\n",
      " 5   Operating_Risk         200 non-null    int32\n",
      " 6   Cluster_Group          200 non-null    int32\n",
      "dtypes: int32(7)\n",
      "memory usage: 7.0 KB\n"
     ]
    }
   ],
   "source": [
    "Predicted_df.info()"
   ]
  },
  {
   "cell_type": "markdown",
   "metadata": {},
   "source": [
    "#11.Transforming the test data using the same PCA object that was fit on the train data. "
   ]
  },
  {
   "cell_type": "code",
   "execution_count": 56,
   "metadata": {},
   "outputs": [
    {
     "name": "stdout",
     "output_type": "stream",
     "text": [
      "Covariance Matrix \n",
      "%s [[ 1.02040816  0.16900346  0.16352909  0.20085832  0.13097858  0.10754218]\n",
      " [ 0.16900346  1.02040816 -0.02083595  0.16841335 -0.20633112  0.4193654 ]\n",
      " [ 0.16352909 -0.02083595  1.02040816  0.00319526  0.34777329 -0.14818634]\n",
      " [ 0.20085832  0.16841335  0.00319526  1.02040816  0.41133968  0.1837143 ]\n",
      " [ 0.13097858 -0.20633112  0.34777329  0.41133968  1.02040816 -0.2331443 ]\n",
      " [ 0.10754218  0.4193654  -0.14818634  0.1837143  -0.2331443   1.02040816]]\n"
     ]
    }
   ],
   "source": [
    "cov_matrix_test = np.cov(X_test_sd.T)\n",
    "print('Covariance Matrix \\n%s', cov_matrix_test)"
   ]
  },
  {
   "cell_type": "code",
   "execution_count": 57,
   "metadata": {},
   "outputs": [
    {
     "name": "stdout",
     "output_type": "stream",
     "text": [
      "Eigenvectors \n",
      "[[ 0.47417921 -0.06469285  0.42400362 -0.76686354  0.03032126  0.04680572]\n",
      " [ 0.42096419  0.43834385  0.224038    0.31697549  0.23940034 -0.65012676]\n",
      " [ 0.19455954 -0.42673272  0.6242592   0.49887698 -0.33356849  0.17378162]\n",
      " [ 0.57380713 -0.1307723  -0.5629191   0.02548554 -0.56961869 -0.10794029]\n",
      " [ 0.30641966 -0.59320148 -0.2471006   0.13204881  0.6890121   0.03139622]\n",
      " [ 0.370057    0.50257268 -0.04890541  0.21090808  0.17690967  0.72959409]]\n",
      "Eigenvalues \n",
      "[1.64916965 1.7255436  0.99506987 0.78536385 0.38619177 0.58111024]\n"
     ]
    }
   ],
   "source": [
    "e_vals_t, e_vecs_t = np.linalg.eig(cov_matrix_test)\n",
    "print('Eigenvectors \\n%s' %e_vecs_t)\n",
    "print('Eigenvalues \\n%s' %e_vals_t)"
   ]
  },
  {
   "cell_type": "code",
   "execution_count": 58,
   "metadata": {},
   "outputs": [],
   "source": [
    "tot_t = sum(e_vals_t)\n",
    "var_exp_t = [( i /tot_t ) * 100 for i in sorted(e_vals_t, reverse=True)]\n",
    "cum_var_exp_t = np.cumsum(var_exp_t)"
   ]
  },
  {
   "cell_type": "code",
   "execution_count": 59,
   "metadata": {},
   "outputs": [
    {
     "data": {
      "image/png": "[encoded data removed]",
      "text/plain": [
       "<Figure size 720x360 with 1 Axes>"
      ]
     },
     "metadata": {
      "needs_background": "light"
     },
     "output_type": "display_data"
    }
   ],
   "source": [
    "# Ploting Elbow diagram\n",
    "plt.figure(figsize=(10 , 5))\n",
    "plt.bar(range(1,e_vals_t.size+1), var_exp_t, alpha=0.5, align='center', label='Individual Explained Variance')\n",
    "plt.step(range(1,e_vals_t.size+1),cum_var_exp_t, where= 'mid', label='Cumulative Explained Variance')\n",
    "plt.ylabel('Explained Variance Ratio')\n",
    "plt.xlabel('Principal Components')\n",
    "plt.legend(loc = 'best')\n",
    "plt.tight_layout()\n",
    "plt.show()"
   ]
  },
  {
   "cell_type": "code",
   "execution_count": 60,
   "metadata": {},
   "outputs": [
    {
     "name": "stdout",
     "output_type": "stream",
     "text": [
      "Matrix W_t:\n",
      " [[-0.06469285 -0.39482081]\n",
      " [ 0.43834385  0.16901624]\n",
      " [-0.42673272 -0.61138533]\n",
      " [-0.1307723   0.32030756]\n",
      " [-0.59320148 -0.58076046]\n",
      " [ 0.50257268  0.04334021]]\n",
      "(50, 6) (6, 2) (50, 2)\n"
     ]
    },
    {
     "data": {
      "text/plain": [
       "[(1.3876622708883897,\n",
       "  array([-0.50561377, -0.56321137,  0.06725356,  0.20908621,  0.18042285,\n",
       "         -0.58851948])),\n",
       " (1.1597162431288888,\n",
       "  array([-0.39482081,  0.16901624, -0.61138533,  0.32030756, -0.58076046,\n",
       "          0.04334021])),\n",
       " (1.0161990205318903,\n",
       "  array([ 0.06656252, -0.06137919,  0.00255946,  0.80724991,  0.41034313,\n",
       "          0.41444128])),\n",
       " (0.9148084187169612,\n",
       "  array([-0.23173273,  0.29952015,  0.77562823,  0.27178557, -0.42434436,\n",
       "         -0.03244912])),\n",
       " (0.827948167867645,\n",
       "  array([ 0.55433463, -0.61934798,  0.05942193,  0.1647211 , -0.52730654,\n",
       "          0.02012457])),\n",
       " (0.7238166326350696,\n",
       "  array([ 0.47228565,  0.42089763, -0.12864009,  0.31785715,  0.06052332,\n",
       "         -0.69177086]))]"
      ]
     },
     "execution_count": 60,
     "metadata": {},
     "output_type": "execute_result"
    }
   ],
   "source": [
    "eigen_pairs_t = [(np.abs(e_vals_t[i]), e_vecs_t[:,i]) for i in range(len(e_vals_t))]\n",
    "eigen_pairs_t.sort(reverse=True)\n",
    "w_t = np.hstack((eigen_pairs_t[0][1].reshape(6,1),eigen_pairs[1][1].reshape(6,1)))\n",
    "print('Matrix W_t:\\n', w_t)\n",
    "X_sd_pca_t = X_test_sd.dot(w_t)\n",
    "print(X_test_sd.shape, w_t.shape, X_sd_pca_t.shape)\n",
    "eigen_pairs[:7]"
   ]
  },
  {
   "cell_type": "markdown",
   "metadata": {},
   "source": [
    "#12. Using the same kmeans object, assign cluster labels to the test data and store it as a feature."
   ]
  },
  {
   "cell_type": "code",
   "execution_count": 61,
   "metadata": {},
   "outputs": [],
   "source": [
    "clusters=range(1,7)\n",
    "meanDistortions=[]\n",
    "for k in clusters:\n",
    "    model=KMeans(n_clusters=k)\n",
    "    model.fit(X_test_sd)\n",
    "    prediction=model.predict(X_test_sd)\n",
    "    meanDistortions.append(sum(np.min(cdist(X_test_sd, model.cluster_centers_, 'euclidean'), axis=1)) / X_test_sd.shape[0])"
   ]
  },
  {
   "cell_type": "code",
   "execution_count": 62,
   "metadata": {},
   "outputs": [],
   "source": [
    "# Let us first start with K = 5\n",
    "final_model_t=KMeans(5)\n",
    "final_model_t.fit(X_test_sd)\n",
    "prediction_t=final_model.predict(X_test_sd)"
   ]
  },
  {
   "cell_type": "code",
   "execution_count": 63,
   "metadata": {},
   "outputs": [
    {
     "name": "stdout",
     "output_type": "stream",
     "text": [
      "Groups Assigned to test data : \n",
      "\n"
     ]
    },
    {
     "name": "stderr",
     "output_type": "stream",
     "text": [
      "<ipython-input-63-33475090266b>:3: SettingWithCopyWarning: \n",
      "A value is trying to be set on a copy of a slice from a DataFrame.\n",
      "Try using .loc[row_indexer,col_indexer] = value instead\n",
      "\n",
      "See the caveats in the documentation: https://pandas.pydata.org/pandas-docs/stable/user_guide/indexing.html#returning-a-view-versus-a-copy\n",
      "  Predicted_Test_df[\"Cluster_Group\"] = prediction_t\n"
     ]
    },
    {
     "data": {
      "text/html": [
       "<div>\n",
       "<style scoped>\n",
       "    .dataframe tbody tr th:only-of-type {\n",
       "        vertical-align: middle;\n",
       "    }\n",
       "\n",
       "    .dataframe tbody tr th {\n",
       "        vertical-align: top;\n",
       "    }\n",
       "\n",
       "    .dataframe thead th {\n",
       "        text-align: right;\n",
       "    }\n",
       "</style>\n",
       "<table border=\"1\" class=\"dataframe\">\n",
       "  <thead>\n",
       "    <tr style=\"text-align: right;\">\n",
       "      <th></th>\n",
       "      <th>Industrial_Risk</th>\n",
       "      <th>Management_Risk</th>\n",
       "      <th>Financial_Flexibility</th>\n",
       "      <th>Credibility</th>\n",
       "      <th>Competitiveness</th>\n",
       "      <th>Operating_Risk</th>\n",
       "      <th>Cluster_Group</th>\n",
       "    </tr>\n",
       "  </thead>\n",
       "  <tbody>\n",
       "    <tr>\n",
       "      <th>148</th>\n",
       "      <td>1</td>\n",
       "      <td>1</td>\n",
       "      <td>1</td>\n",
       "      <td>0</td>\n",
       "      <td>1</td>\n",
       "      <td>0</td>\n",
       "      <td>4</td>\n",
       "    </tr>\n",
       "    <tr>\n",
       "      <th>219</th>\n",
       "      <td>0</td>\n",
       "      <td>0</td>\n",
       "      <td>1</td>\n",
       "      <td>1</td>\n",
       "      <td>1</td>\n",
       "      <td>1</td>\n",
       "      <td>4</td>\n",
       "    </tr>\n",
       "    <tr>\n",
       "      <th>94</th>\n",
       "      <td>2</td>\n",
       "      <td>0</td>\n",
       "      <td>2</td>\n",
       "      <td>1</td>\n",
       "      <td>2</td>\n",
       "      <td>1</td>\n",
       "      <td>0</td>\n",
       "    </tr>\n",
       "    <tr>\n",
       "      <th>84</th>\n",
       "      <td>0</td>\n",
       "      <td>2</td>\n",
       "      <td>0</td>\n",
       "      <td>0</td>\n",
       "      <td>0</td>\n",
       "      <td>2</td>\n",
       "      <td>1</td>\n",
       "    </tr>\n",
       "    <tr>\n",
       "      <th>3</th>\n",
       "      <td>2</td>\n",
       "      <td>2</td>\n",
       "      <td>2</td>\n",
       "      <td>2</td>\n",
       "      <td>2</td>\n",
       "      <td>2</td>\n",
       "      <td>0</td>\n",
       "    </tr>\n",
       "  </tbody>\n",
       "</table>\n",
       "</div>"
      ],
      "text/plain": [
       "     Industrial_Risk  Management_Risk  Financial_Flexibility  Credibility  \\\n",
       "148                1                1                      1            0   \n",
       "219                0                0                      1            1   \n",
       "94                 2                0                      2            1   \n",
       "84                 0                2                      0            0   \n",
       "3                  2                2                      2            2   \n",
       "\n",
       "     Competitiveness  Operating_Risk  Cluster_Group  \n",
       "148                1               0              4  \n",
       "219                1               1              4  \n",
       "94                 2               1              0  \n",
       "84                 0               2              1  \n",
       "3                  2               2              0  "
      ]
     },
     "execution_count": 63,
     "metadata": {},
     "output_type": "execute_result"
    }
   ],
   "source": [
    "#Append the prediction to train data\n",
    "Predicted_Test_df=X_test\n",
    "Predicted_Test_df[\"Cluster_Group\"] = prediction_t\n",
    "print(\"Groups Assigned to test data : \\n\")\n",
    "Predicted_Test_df.head()"
   ]
  },
  {
   "cell_type": "code",
   "execution_count": null,
   "metadata": {},
   "outputs": [],
   "source": []
  },
  {
   "cell_type": "markdown",
   "metadata": {},
   "source": [
    "#13.Applying any classification ( i.e. SVC, Logistic) model on train dataset and predict target for test dataset."
   ]
  },
  {
   "cell_type": "markdown",
   "metadata": {},
   "source": [
    "#We will use support vector classifiers, Logistic regression and Naive Bayes"
   ]
  },
  {
   "cell_type": "code",
   "execution_count": 169,
   "metadata": {},
   "outputs": [
    {
     "name": "stdout",
     "output_type": "stream",
     "text": [
      "Score : 100.0\n",
      "Classification Report:\n",
      "               precision    recall  f1-score   support\n",
      "\n",
      "          0       1.00      1.00      1.00        16\n",
      "          1       1.00      1.00      1.00        34\n",
      "\n",
      "avg / total       1.00      1.00      1.00        50\n",
      "\n"
     ]
    }
   ],
   "source": [
    "from sklearn.svm import SVC\n",
    "from sklearn import metrics\n",
    "from sklearn.metrics import classification_report\n",
    "clf = SVC()\n",
    "clf.fit(X_train_sd, y_train)\n",
    "SVM_score = clf.score(X_test_sd , y_test)\n",
    "print(f'Score : {round(SVM_score*100,3)}')\n",
    "pred = clf.predict(X_test_sd)\n",
    "tn, fp, fn, tp = metrics.confusion_matrix(y_test, pred).ravel()\n",
    "SVM_recall = round((tp/(tp+fn)*100),3)\n",
    "SVM_precision = round(tp/(tp+fp)*100, 3)\n",
    "SVM_specificity =round(tn/(tn+fp)*100,3) \n",
    "SVM_f1score =  round(2*SVM_precision*SVM_recall/(SVM_precision + SVM_recall), 3)\n",
    "print('Classification Report:\\n ',classification_report(y_test,pred))"
   ]
  },
  {
   "cell_type": "code",
   "execution_count": 167,
   "metadata": {},
   "outputs": [
    {
     "name": "stdout",
     "output_type": "stream",
     "text": [
      "Score : 48.0\n",
      "Classification Report:\n",
      "               precision    recall  f1-score   support\n",
      "\n",
      "          0       0.27      0.38      0.32        16\n",
      "          1       0.64      0.53      0.58        34\n",
      "\n",
      "avg / total       0.52      0.48      0.50        50\n",
      "\n"
     ]
    }
   ],
   "source": [
    "from sklearn.linear_model import LogisticRegression\n",
    "from sklearn import metrics\n",
    "from sklearn.metrics import classification_report\n",
    "model = LogisticRegression()\n",
    "model.fit(X_train_sd, y_train)\n",
    "lr_score = model.score(X_test_sd , y_test)\n",
    "print(f'Score : {round(lr_score*100,3)}')\n",
    "pred = model.predict(X_test_sd)\n",
    "tn, fp, fn, tp = metrics.confusion_matrix(y_test, pred).ravel()\n",
    "lr_recall = round((tp/(tp+fn)*100),3)\n",
    "lr_precision = round(tp/(tp+fp)*100, 3)\n",
    "lr_specificity =round(tn/(tn+fp)*100,3) \n",
    "lr_f1score =  round(2*lr_precision*lr_recall/(lr_precision + lr_recall), 3)\n",
    "print('Classification Report:\\n ',classification_report(y_test,pred))"
   ]
  },
  {
   "cell_type": "code",
   "execution_count": 168,
   "metadata": {},
   "outputs": [
    {
     "name": "stdout",
     "output_type": "stream",
     "text": [
      "Score : 48.0\n",
      "Classification Report:\n",
      "               precision    recall  f1-score   support\n",
      "\n",
      "          0       1.00      0.88      0.93        16\n",
      "          1       0.94      1.00      0.97        34\n",
      "\n",
      "avg / total       0.96      0.96      0.96        50\n",
      "\n"
     ]
    }
   ],
   "source": [
    "from sklearn.naive_bayes import GaussianNB\n",
    "from sklearn import metrics\n",
    "from sklearn.metrics import classification_report\n",
    "NB = GaussianNB()\n",
    "NB.fit(X_train_sd, y_train)\n",
    "NB_score = model.score(X_test_sd , y_test)\n",
    "print(f'Score : {round(lr_score*100,3)}')\n",
    "pred = NB.predict(X_test_sd)\n",
    "tn, fp, fn, tp = metrics.confusion_matrix(y_test, pred).ravel()\n",
    "NB_recall = round((tp/(tp+fn)*100),3)\n",
    "NB_precision = round(tp/(tp+fp)*100, 3)\n",
    "NB_specificity =round(tn/(tn+fp)*100,3) \n",
    "NB_f1score =  round(2*NB_precision*NB_recall/(NB_precision + NB_recall), 3)\n",
    "print('Classification Report:\\n ',classification_report(y_test,pred))"
   ]
  },
  {
   "cell_type": "markdown",
   "metadata": {},
   "source": [
    "#14.Checking accuracy and confusion matrix."
   ]
  },
  {
   "cell_type": "code",
   "execution_count": 165,
   "metadata": {},
   "outputs": [],
   "source": [
    "metric = np.array([[lr_score,lr_recall, lr_precision, lr_specificity,lr_f1score],[SVM_score,SVM_recall, SVM_precision, SVM_specificity,SVM_f1score],[NB_score,NB_recall, NB_precision, NB_specificity,NB_f1score]]).T"
   ]
  },
  {
   "cell_type": "code",
   "execution_count": 166,
   "metadata": {},
   "outputs": [
    {
     "data": {
      "text/html": [
       "<div>\n",
       "<style scoped>\n",
       "    .dataframe tbody tr th:only-of-type {\n",
       "        vertical-align: middle;\n",
       "    }\n",
       "\n",
       "    .dataframe tbody tr th {\n",
       "        vertical-align: top;\n",
       "    }\n",
       "\n",
       "    .dataframe thead th {\n",
       "        text-align: right;\n",
       "    }\n",
       "</style>\n",
       "<table border=\"1\" class=\"dataframe\">\n",
       "  <thead>\n",
       "    <tr style=\"text-align: right;\">\n",
       "      <th></th>\n",
       "      <th>Model</th>\n",
       "      <th>Accuracy</th>\n",
       "      <th>Recall</th>\n",
       "      <th>Precision</th>\n",
       "      <th>Specificity</th>\n",
       "      <th>f1Score</th>\n",
       "    </tr>\n",
       "  </thead>\n",
       "  <tbody>\n",
       "    <tr>\n",
       "      <th>0</th>\n",
       "      <td>Logistic Regression</td>\n",
       "      <td>0.48</td>\n",
       "      <td>52.941</td>\n",
       "      <td>64.286</td>\n",
       "      <td>37.5</td>\n",
       "      <td>58.065</td>\n",
       "    </tr>\n",
       "    <tr>\n",
       "      <th>1</th>\n",
       "      <td>SVM</td>\n",
       "      <td>1.00</td>\n",
       "      <td>100.000</td>\n",
       "      <td>100.000</td>\n",
       "      <td>100.0</td>\n",
       "      <td>100.000</td>\n",
       "    </tr>\n",
       "    <tr>\n",
       "      <th>2</th>\n",
       "      <td>Naive Bayes</td>\n",
       "      <td>0.48</td>\n",
       "      <td>100.000</td>\n",
       "      <td>94.444</td>\n",
       "      <td>87.5</td>\n",
       "      <td>97.143</td>\n",
       "    </tr>\n",
       "  </tbody>\n",
       "</table>\n",
       "</div>"
      ],
      "text/plain": [
       "                 Model  Accuracy   Recall  Precision  Specificity  f1Score\n",
       "0  Logistic Regression      0.48   52.941     64.286         37.5   58.065\n",
       "1                  SVM      1.00  100.000    100.000        100.0  100.000\n",
       "2          Naive Bayes      0.48  100.000     94.444         87.5   97.143"
      ]
     },
     "execution_count": 166,
     "metadata": {},
     "output_type": "execute_result"
    }
   ],
   "source": [
    "result = pd.DataFrame({'Model' : ['Logistic Regression', 'SVM','Naive Bayes'], \n",
    "'Accuracy' : metric[0],\n",
    "'Recall' : metric[1],\n",
    "'Precision' : metric[2],\n",
    "'Specificity' : metric[3],\n",
    "'f1Score' : metric[4]})\n",
    "result"
   ]
  },
  {
   "cell_type": "markdown",
   "metadata": {},
   "source": [
    "Conclusion:\n",
    "SVM & Naive Bayes are overfitted."
   ]
  }
 ],
 "metadata": {
  "kernelspec": {
   "display_name": "Python 3",
   "language": "python",
   "name": "python3"
  }
 },
 "nbformat": 4,
 "nbformat_minor": 2
}
